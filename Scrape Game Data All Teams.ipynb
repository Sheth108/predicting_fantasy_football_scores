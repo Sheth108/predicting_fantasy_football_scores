{
 "cells": [
  {
   "cell_type": "code",
   "execution_count": null,
   "metadata": {},
   "outputs": [],
   "source": [
    "from __future__ import print_function, division\n",
    "import requests\n",
    "import pandas as pd\n",
    "from bs4 import BeautifulSoup\n",
    "from selenium import webdriver\n",
    "from selenium.webdriver.common.keys import Keys\n",
    "import time\n",
    "import os\n",
    "import pickle as pkl\n",
    "\n",
    "chromedriver = \"/Applications/chromedriver\"\n",
    "os.environ[\"webdriver.chrome.driver\"] = chromedriver\n",
    "driver = webdriver.Chrome(chromedriver)"
   ]
  },
  {
   "cell_type": "code",
   "execution_count": null,
   "metadata": {},
   "outputs": [],
   "source": [
    "# returns list of names scraped from site - all info scraped by each team in order of best fantasy game by QB to worst\n",
    "def getNames(innerHTML):\n",
    "    names = [str(link) for link in innerHTML.find_all('a') if 'nfl-stats/player-details' in str(link)]\n",
    "    names = [link.split('>')[1].split('<')[0] for link in names]\n",
    "    names = [str(name) for name in names]\n",
    "    return names"
   ]
  },
  {
   "cell_type": "code",
   "execution_count": null,
   "metadata": {},
   "outputs": [],
   "source": [
    "# returns list of week numbers\n",
    "def getWeeks(innerHTML):\n",
    "    weeks = [str(week) for week in innerHTML.find_all('span') if 'dataItem.Week' in str(week)]\n",
    "    weeks = [int(week.split('>')[1].split('<')[0]) for week in weeks]\n",
    "    return weeks"
   ]
  },
  {
   "cell_type": "code",
   "execution_count": null,
   "metadata": {},
   "outputs": [],
   "source": [
    "# returns list of opponents\n",
    "def getOPP(innerHTML):\n",
    "    opponents = [str(opponent) for opponent in innerHTML.find_all('span') if 'dataItem.Opponent' in str(opponent)]\n",
    "    opponents = [opponent.split('>')[1].split('<')[0] for opponent in opponents]\n",
    "    opponents = [str(opponent) for opponent in opponents]\n",
    "    return opponents"
   ]
  },
  {
   "cell_type": "code",
   "execution_count": null,
   "metadata": {},
   "outputs": [],
   "source": [
    "# returns multiple lists of different stats\n",
    "def getStats(innerHTML):\n",
    "    data = [str(data) for data in innerHTML.find_all('td') if 'class=\"\"' in str(data) and 'span' not in str(data)]\n",
    "    data = [data for data in data if 'href' not in data]\n",
    "    data = [data.split('>')[1].split('<')[0] for data in data]\n",
    "    newData = []\n",
    "    for x in range(len(data)//12):\n",
    "        newData.append(data[12*x:12*x+11])\n",
    "    for statList in newData:\n",
    "        if len(statList) == 11:\n",
    "            statList.append(0)\n",
    "\n",
    "    completions = []\n",
    "    attempts = []\n",
    "    percentage = []\n",
    "    passingYards = []\n",
    "    avgYdsThrow = []\n",
    "    passTDs = []\n",
    "    interceptions = []\n",
    "    passerRating = []\n",
    "    rushAtt = []\n",
    "    rushYds = []\n",
    "    rushAvg = []\n",
    "    rushTDs = []\n",
    "\n",
    "    for x in range(len(newData)):\n",
    "        completions.append(int(newData[x][0]))\n",
    "        attempts.append(int(newData[x][1]))\n",
    "        percentage.append(float(newData[x][2]))\n",
    "        passingYards.append(int(newData[x][3]))\n",
    "        avgYdsThrow.append(float(newData[x][4]))\n",
    "        passTDs.append(int(newData[x][5]))\n",
    "        interceptions.append(int(newData[x][6]))\n",
    "        passerRating.append(float(newData[x][7]))\n",
    "        rushAtt.append(int(newData[x][8]))\n",
    "        rushYds.append(int(newData[x][9]))\n",
    "        rushAvg.append(float(newData[x][10]))\n",
    "        rushTDs.append(int(newData[x][11]))\n",
    "\n",
    "    return [completions, attempts, percentage, passingYards, avgYdsThrow, passTDs, interceptions, passerRating, rushAtt, rushYds, rushAvg, rushTDs]"
   ]
  },
  {
   "cell_type": "code",
   "execution_count": null,
   "metadata": {},
   "outputs": [],
   "source": [
    "# returns list of fantasy points\n",
    "def getFPts(innerHTML):\n",
    "    fantasyPoints = [str(fpts) for fpts in innerHTML.find_all('span') if 'dataItem.FantasyPoints' in str(fpts) and 'PerGame' not in str(fpts)]\n",
    "    fantasyPoints = [float(fpts.split('>')[1].split('<')[0]) for fpts in fantasyPoints]\n",
    "    return fantasyPoints"
   ]
  },
  {
   "cell_type": "code",
   "execution_count": null,
   "metadata": {},
   "outputs": [],
   "source": [
    "# puts everything into dataframe\n",
    "def getDF(names, weeks, opponents, stats, fantasyPoints):\n",
    "    df = pd.DataFrame({'Name':names, 'Week':weeks, 'OPP':opponents, 'CMP':stats[0], 'ATT':stats[1], 'PCT':stats[2], 'PassYd':stats[3], 'AvgYds/Pass':stats[4], 'PassTD':stats[5], 'INT':stats[6], 'Rating':stats[7], 'RushAtt':stats[8], 'RushYds':stats[9], 'AvgYds/Rush':stats[10], 'RushTD':stats[11], 'Fantasy Points':fantasyPoints})\n",
    "    return df"
   ]
  },
  {
   "cell_type": "code",
   "execution_count": null,
   "metadata": {},
   "outputs": [],
   "source": [
    "# set unedited url and log in to website\n",
    "url = 'https://fantasydata.com/nfl-stats/fantasy-football-leaders?position=2&team={}&season=2017&seasontype=1&scope=2&subscope=1&startweek=1&endweek=17'\n",
    "# log in and go to page to get data\n",
    "driver.get('https://fantasydata.com/user/login')\n",
    "time.sleep(1);\n",
    "logIn = driver.find_element_by_name('Email')\n",
    "logIn.send_keys('rishis1096@gmail.com')\n",
    "logIn = driver.find_element_by_name('Password')\n",
    "logIn.send_keys('password') # false password due to code being put online\n",
    "logIn.send_keys(Keys.RETURN)"
   ]
  },
  {
   "cell_type": "code",
   "execution_count": null,
   "metadata": {},
   "outputs": [],
   "source": [
    "# create entire DF\n",
    "for x in range(32):\n",
    "    driver.get(url.format(str(x)))\n",
    "    time.sleep(1);\n",
    "    innerHTML = driver.execute_script(\"return document.body.innerHTML\")\n",
    "    innerHTML = BeautifulSoup(innerHTML, 'lxml')\n",
    "    \n",
    "    names = getNames(innerHTML)\n",
    "    weeks = getWeeks(innerHTML)\n",
    "    opponents = getOPP(innerHTML)\n",
    "    stats = getStats(innerHTML)\n",
    "    fantasyPoints = getFPts(innerHTML)\n",
    "    \n",
    "\n",
    "    if x == 0:\n",
    "        statsDF = getDF(names, weeks, opponents, stats, fantasyPoints)\n",
    "    else:\n",
    "        df = getDF(names, weeks, opponents, stats, fantasyPoints)\n",
    "        statsDF = pd.concat([statsDF, df])\n",
    "\n",
    "statsDF\n"
   ]
  },
  {
   "cell_type": "code",
   "execution_count": null,
   "metadata": {},
   "outputs": [],
   "source": [
    "def getDefTeams(innerHTML):    \n",
    "    defTeams = [str(defense) for defense in innerHTML.find_all('a') if 'nfl-stats/team-details' in str(defense)]\n",
    "    defTeams = [defense.split('>')[1].split('<')[0] for defense in defTeams]\n",
    "    return defTeams"
   ]
  },
  {
   "cell_type": "code",
   "execution_count": null,
   "metadata": {},
   "outputs": [],
   "source": [
    "def getQBptsAllowed(innerHTML):    \n",
    "    defStats = [str(points) for points in innerHTML.find_all('td') if 'dataItem' not in str(points) and 'href' not in str(points)]\n",
    "    defStats = [points.split('>')[1].split('<')[0] for points in defStats]\n",
    "    QBpointsAllowed = [defStats[0]]\n",
    "    for x in range(6,len(defStats),6):\n",
    "        QBpointsAllowed.append(defStats[x])\n",
    "    return QBpointsAllowed"
   ]
  },
  {
   "cell_type": "code",
   "execution_count": null,
   "metadata": {},
   "outputs": [],
   "source": [
    "def getDefDF(defTeams, QBpointsAllowed, week):\n",
    "    df = pd.DataFrame({'OPP': defTeams, 'QB Points Allowed': QBpointsAllowed, 'Week': week})\n",
    "    return df"
   ]
  },
  {
   "cell_type": "code",
   "execution_count": null,
   "metadata": {},
   "outputs": [],
   "source": [
    "url = 'https://fantasydata.com/nfl-stats/fantasy-football-points-allowed-defense-by-position?season=2017&seasontype=1&scope=2&startweek={}&endweek={}'"
   ]
  },
  {
   "cell_type": "code",
   "execution_count": null,
   "metadata": {},
   "outputs": [],
   "source": [
    "for x in range(1,18):\n",
    "    driver.get(url.format(str(x), str(x)))\n",
    "    time.sleep(1);\n",
    "    innerHTML = driver.execute_script(\"return document.body.innerHTML\")\n",
    "    innerHTML = BeautifulSoup(innerHTML, 'lxml')\n",
    "    \n",
    "    defTeams = getDefTeams(innerHTML)\n",
    "    QBpointsAllowed = getQBptsAllowed(innerHTML)\n",
    "    week = []\n",
    "    for num in range(len(defTeams)):\n",
    "        week.append(x)\n",
    "    \n",
    "    if x == 1:\n",
    "        defDF = getDefDF(defTeams, QBpointsAllowed, week)\n",
    "    else:\n",
    "        newDefDF = getDefDF(defTeams, QBpointsAllowed, week)\n",
    "        defDF = pd.concat([defDF, newDefDF])\n",
    "defDF\n",
    "    "
   ]
  },
  {
   "cell_type": "code",
   "execution_count": null,
   "metadata": {},
   "outputs": [],
   "source": [
    "with open(\"QBdata\", 'wb') as picklefile:\n",
    "    pkl.dump(statsDF, picklefile)"
   ]
  },
  {
   "cell_type": "code",
   "execution_count": null,
   "metadata": {},
   "outputs": [],
   "source": [
    "defDF['QB Points Allowed'] = defDF['QB Points Allowed'].astype(float)\n",
    "defDF['Week'] = defDF['Week'].astype(int)\n",
    "statsDF['Week'] = statsDF['Week'].astype(int)"
   ]
  },
  {
   "cell_type": "code",
   "execution_count": null,
   "metadata": {},
   "outputs": [],
   "source": [
    "fantasyDEF = pd.merge(defDF, statsDF, on=['OPP', 'Week'])\n",
    "fantasyDEF = fantasyDEF[['Name', 'Week', 'OPP', 'QB Points Allowed']]\n",
    "defDF.loc[defDF['OPP'] == 'BAL']"
   ]
  },
  {
   "cell_type": "code",
   "execution_count": null,
   "metadata": {},
   "outputs": [],
   "source": [
    "with open(\"fantasyDEFdata\", 'wb') as picklefile:\n",
    "    pkl.dump(fantasyDEF, picklefile)"
   ]
  }
 ],
 "metadata": {
  "kernelspec": {
   "display_name": "Python 3",
   "language": "python",
   "name": "python3"
  },
  "language_info": {
   "codemirror_mode": {
    "name": "ipython",
    "version": 3
   },
   "file_extension": ".py",
   "mimetype": "text/x-python",
   "name": "python",
   "nbconvert_exporter": "python",
   "pygments_lexer": "ipython3",
   "version": "3.6.6"
  },
  "toc": {
   "base_numbering": 1,
   "nav_menu": {},
   "number_sections": true,
   "sideBar": true,
   "skip_h1_title": false,
   "title_cell": "Table of Contents",
   "title_sidebar": "Contents",
   "toc_cell": false,
   "toc_position": {},
   "toc_section_display": true,
   "toc_window_display": false
  },
  "varInspector": {
   "cols": {
    "lenName": 16,
    "lenType": 16,
    "lenVar": 40
   },
   "kernels_config": {
    "python": {
     "delete_cmd_postfix": "",
     "delete_cmd_prefix": "del ",
     "library": "var_list.py",
     "varRefreshCmd": "print(var_dic_list())"
    },
    "r": {
     "delete_cmd_postfix": ") ",
     "delete_cmd_prefix": "rm(",
     "library": "var_list.r",
     "varRefreshCmd": "cat(var_dic_list()) "
    }
   },
   "types_to_exclude": [
    "module",
    "function",
    "builtin_function_or_method",
    "instance",
    "_Feature"
   ],
   "window_display": false
  }
 },
 "nbformat": 4,
 "nbformat_minor": 2
}
