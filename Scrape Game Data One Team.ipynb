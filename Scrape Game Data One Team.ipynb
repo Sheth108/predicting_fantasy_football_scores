{
 "cells": [
  {
   "cell_type": "code",
   "execution_count": null,
   "metadata": {},
   "outputs": [],
   "source": [
    "from __future__ import print_function, division\n",
    "import requests\n",
    "import pandas as pd\n",
    "from bs4 import BeautifulSoup\n",
    "from selenium import webdriver\n",
    "from selenium.webdriver.common.keys import Keys\n",
    "import time\n",
    "import os\n",
    "\n",
    "chromedriver = \"/Applications/chromedriver\"\n",
    "os.environ[\"webdriver.chrome.driver\"] = chromedriver\n",
    "driver = webdriver.Chrome(chromedriver)"
   ]
  },
  {
   "cell_type": "code",
   "execution_count": null,
   "metadata": {},
   "outputs": [],
   "source": [
    "# log in and go to page to get data\n",
    "driver.get('https://fantasydata.com/user/login')\n",
    "time.sleep(1);\n",
    "logIn = driver.find_element_by_name('Email')\n",
    "logIn.send_keys('rishis1096@gmail.com')\n",
    "logIn = driver.find_element_by_name('Password')\n",
    "logIn.send_keys('password') # false password due to code being put online\n",
    "logIn.send_keys(Keys.RETURN)"
   ]
  },
  {
   "cell_type": "code",
   "execution_count": null,
   "metadata": {},
   "outputs": [],
   "source": [
    "driver.get('https://fantasydata.com/nfl-stats/fantasy-football-leaders?position=2&team=1&season=2017&seasontype=1&scope=2&subscope=1&startweek=1&endweek=17')\n",
    "time.sleep(1);"
   ]
  },
  {
   "cell_type": "code",
   "execution_count": null,
   "metadata": {},
   "outputs": [],
   "source": [
    "# use beautifulsoup to scrape - starting with player name\n",
    "innerHTML = driver.execute_script(\"return document.body.innerHTML\")\n",
    "innerHTML = BeautifulSoup(innerHTML, 'lxml')\n",
    "innerHTML"
   ]
  },
  {
   "cell_type": "code",
   "execution_count": null,
   "metadata": {},
   "outputs": [],
   "source": [
    "# get the names of the QBs in order\n",
    "names = [str(link) for link in innerHTML.find_all('a') if 'nfl-stats/player-details' in str(link)]\n",
    "names = [link.split('>')[1].split('<')[0] for link in names]\n",
    "names"
   ]
  },
  {
   "cell_type": "code",
   "execution_count": null,
   "metadata": {},
   "outputs": [],
   "source": [
    "# get week numbers in order\n",
    "weeks = [str(week) for week in innerHTML.find_all('span') if 'dataItem.Week' in str(week)]\n",
    "weeks = [week.split('>')[1].split('<')[0] for week in weeks]\n",
    "weeks"
   ]
  },
  {
   "cell_type": "code",
   "execution_count": null,
   "metadata": {},
   "outputs": [],
   "source": [
    "# get opponents in order\n",
    "opponents = [str(opponent) for opponent in innerHTML.find_all('span') if 'dataItem.Opponent' in str(opponent)]\n",
    "opponents = [opponent.split('>')[1].split('<')[0] for opponent in opponents]\n",
    "opponents"
   ]
  },
  {
   "cell_type": "code",
   "execution_count": null,
   "metadata": {},
   "outputs": [],
   "source": [
    "# get data in order\n",
    "data = [str(data) for data in innerHTML.find_all('td') if 'class=\"\"' in str(data) and 'span' not in str(data)]\n",
    "data = [data for data in data if 'href' not in data]\n",
    "data = [data.split('>')[1].split('<')[0] for data in data]\n",
    "newData = []\n",
    "for x in range(len(data)//12):\n",
    "    newData.append(data[12*x:12*x + 11])\n",
    "for statList in newData:\n",
    "    if len(statList) == 11:\n",
    "        statList.append(0)\n",
    "\n",
    "completions = []\n",
    "attempts = []\n",
    "percentage = []\n",
    "passingYards = []\n",
    "avgYdsThrow = []\n",
    "passTDs = []\n",
    "interceptions = []\n",
    "passerRating = []\n",
    "rushAtt = []\n",
    "rushYds = []\n",
    "rushAvg = []\n",
    "rushTDs = []\n",
    "\n",
    "for x in range(len(newData)):\n",
    "    completions.append(newData[x][0])\n",
    "    attempts.append(newData[x][1])\n",
    "    percentage.append(newData[x][2])\n",
    "    passingYards.append(newData[x][3])\n",
    "    avgYdsThrow.append(newData[x][4])\n",
    "    passTDs.append(newData[x][5])\n",
    "    interceptions.append(newData[x][6])\n",
    "    passerRating.append(newData[x][7])\n",
    "    rushAtt.append(newData[x][8])\n",
    "    rushYds.append(newData[x][9])\n",
    "    rushAvg.append(newData[x][10])\n",
    "    rushTDs.append(newData[x][11])"
   ]
  },
  {
   "cell_type": "code",
   "execution_count": null,
   "metadata": {},
   "outputs": [],
   "source": [
    "# get fantasy points in order\n",
    "fantasyPoints = [str(fpts) for fpts in innerHTML.find_all('span') if 'dataItem.FantasyPoints' in str(fpts) and 'PerGame' not in str(fpts)]\n",
    "fantasyPoints = [fpts.split('>')[1].split('<')[0] for fpts in fantasyPoints]\n",
    "fantasyPoints"
   ]
  },
  {
   "cell_type": "code",
   "execution_count": null,
   "metadata": {
    "scrolled": false
   },
   "outputs": [],
   "source": [
    "ATL = pd.DataFrame({'Name':names, 'Week':weeks, 'OPP':opponents, 'CMP':completions, 'ATT':attempts, 'PCT':percentage, 'PassYd':passingYards, 'AvgYds/Pass':avgYdsThrow, 'PassTD':passTDs, 'INT':interceptions, 'Rating':passerRating, 'RushAtt':rushAtt, 'RushYds':rushYds, 'AvgYds/Rush':rushAvg, 'RushTD':rushTDs, 'Fantasy Points':fantasyPoints})\n",
    "ATL"
   ]
  },
  {
   "cell_type": "code",
   "execution_count": null,
   "metadata": {},
   "outputs": [],
   "source": []
  }
 ],
 "metadata": {
  "kernelspec": {
   "display_name": "Python 3",
   "language": "python",
   "name": "python3"
  },
  "language_info": {
   "codemirror_mode": {
    "name": "ipython",
    "version": 3
   },
   "file_extension": ".py",
   "mimetype": "text/x-python",
   "name": "python",
   "nbconvert_exporter": "python",
   "pygments_lexer": "ipython3",
   "version": "3.6.6"
  },
  "toc": {
   "base_numbering": 1,
   "nav_menu": {},
   "number_sections": true,
   "sideBar": true,
   "skip_h1_title": false,
   "title_cell": "Table of Contents",
   "title_sidebar": "Contents",
   "toc_cell": false,
   "toc_position": {},
   "toc_section_display": true,
   "toc_window_display": false
  },
  "varInspector": {
   "cols": {
    "lenName": 16,
    "lenType": 16,
    "lenVar": 40
   },
   "kernels_config": {
    "python": {
     "delete_cmd_postfix": "",
     "delete_cmd_prefix": "del ",
     "library": "var_list.py",
     "varRefreshCmd": "print(var_dic_list())"
    },
    "r": {
     "delete_cmd_postfix": ") ",
     "delete_cmd_prefix": "rm(",
     "library": "var_list.r",
     "varRefreshCmd": "cat(var_dic_list()) "
    }
   },
   "types_to_exclude": [
    "module",
    "function",
    "builtin_function_or_method",
    "instance",
    "_Feature"
   ],
   "window_display": false
  }
 },
 "nbformat": 4,
 "nbformat_minor": 2
}
