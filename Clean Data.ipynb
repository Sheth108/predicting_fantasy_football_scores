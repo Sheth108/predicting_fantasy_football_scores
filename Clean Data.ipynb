{
 "cells": [
  {
   "cell_type": "code",
   "execution_count": null,
   "metadata": {},
   "outputs": [],
   "source": [
    "import pandas as pd\n",
    "import pickle as pkl\n",
    "import matplotlib.pyplot as plt"
   ]
  },
  {
   "cell_type": "code",
   "execution_count": null,
   "metadata": {},
   "outputs": [],
   "source": [
    "with open(\"QBdata\", 'rb') as picklefile: \n",
    "    statsDF = pkl.load(picklefile)\n",
    "\n",
    "with open(\"fantasyDEFdata\", 'rb') as picklefile: \n",
    "    defDF = pkl.load(picklefile)"
   ]
  },
  {
   "cell_type": "code",
   "execution_count": null,
   "metadata": {},
   "outputs": [],
   "source": [
    "# reduce DF to QBs that played 4 or more games in the season\n",
    "QBstats = pd.DataFrame()\n",
    "for name in statsDF.Name.unique():\n",
    "    if len(statsDF.loc[statsDF.Name == name]) >= 4:\n",
    "        if len(QBstats) == 0:\n",
    "            QBstats = pd.DataFrame(statsDF.loc[statsDF.Name == name])\n",
    "        else:\n",
    "            current = pd.DataFrame(statsDF.loc[statsDF.Name == name])\n",
    "            QBstats = pd.concat([QBstats, current])\n",
    "\n",
    "QBstats1 = QBstats.sort_values(['Name', 'Week']).reset_index()  \n",
    "QBstats1.loc[QBstats1.Name == 'Mitch Trubisky'].sort_values(['Week'])"
   ]
  },
  {
   "cell_type": "code",
   "execution_count": null,
   "metadata": {},
   "outputs": [],
   "source": [
    "# get averages of stats prior to week listed\n",
    "QBWeeks = QBstats1[['Name', 'Week']]\n",
    "QBmerge = pd.merge(QBWeeks, QBstats1, on='Name')\n",
    "QBedit = QBmerge[QBmerge['Week_x'] > QBmerge['Week_y']]\n",
    "QBedit.rename(columns={'Week_x':'Week'}, inplace = True)\n",
    "QBavg = QBedit.groupby(['Name','Week']).mean().reset_index()\n",
    "\n",
    "# take out games 2 and 3 played by QBs (game 1 already removed)\n",
    "filteredQBdata = pd.DataFrame({})\n",
    "for name in QBavg.Name.unique():\n",
    "    current = QBavg.loc[QBavg.Name == name]\n",
    "    filteredQBdata = pd.concat([filteredQBdata, current.iloc[2:]])\n",
    "filteredQBdata"
   ]
  },
  {
   "cell_type": "code",
   "execution_count": null,
   "metadata": {},
   "outputs": [],
   "source": [
    "# present graph for MVP - show trend in one player who lowered yards/game and lowered fpts/game\n",
    "brady = filteredQBdata.loc[filteredQBdata.Name == 'Tom Brady']\n",
    "fig, (bradyYards, bradyPoints) = plt.subplots(nrows=1, ncols=2, figsize=(12,4))\n",
    "\n",
    "bradyYards.scatter(x=brady['Week'], y=brady['PassYd'], marker='o', c='r', edgecolor='b')\n",
    "bradyYards.set_title('Brady: Yards Per Week Average')\n",
    "bradyYards.set_xlabel('Week')\n",
    "bradyYards.set_ylabel('Average Yards Per Game Prior to Week')\n",
    "bradyYards.set_xlim(xmin=0, xmax=18)\n",
    "bradyYards.set_ylim(ymin=280, ymax=370)\n",
    "\n",
    "bradyPoints.scatter(x=brady['Week'], y=brady['Fantasy Points'], marker='o', c='r', edgecolor='b')\n",
    "bradyPoints.set_title('Brady: Fantasy Points Per Week Average')\n",
    "bradyPoints.set_xlabel('Week')\n",
    "bradyPoints.set_ylabel('Average Fantasy Points Per Game Prior to Week')\n",
    "bradyPoints.set_xlim(xmin=0, xmax=18)\n",
    "bradyPoints.set_ylim(ymin=15, ymax=30)"
   ]
  },
  {
   "cell_type": "code",
   "execution_count": null,
   "metadata": {},
   "outputs": [],
   "source": [
    "# get avg QB points allowed/week by defense\n",
    "defWeeks = defDF[['OPP', 'Week']]\n",
    "defMerge = pd.merge(defWeeks, defDF, on='OPP')\n",
    "filteredMerge = pd.DataFrame({})\n",
    "defEdit = defMerge[defMerge['Week_x'] > defMerge['Week_y']]\n",
    "defEdit.rename(columns = {'Week_x': 'Week'}, inplace=True)\n",
    "for name in defEdit.Name.unique():\n",
    "    if name not in filteredQBdata.Name.unique():\n",
    "        defEdit = defEdit[defEdit.Name != name]\n",
    "defEdit.drop_duplicates(subset=['OPP', 'Week', 'Week_y'], inplace=True)\n",
    "defAvg = defEdit.groupby(['OPP', 'Week']).mean().reset_index()\n",
    "defAvg = defAvg[['OPP', 'Week', 'QB Points Allowed']]\n"
   ]
  },
  {
   "cell_type": "code",
   "execution_count": null,
   "metadata": {},
   "outputs": [],
   "source": [
    "# merge defense data with QB data\n",
    "QBtoMerge = QBstats1[['Name', 'Week', 'OPP', 'Fantasy Points']]\n",
    "df = pd.merge(filteredQBdata, QBtoMerge, on=['Name', 'Week'])\n",
    "df.drop(['Week_y', 'index', 'Fantasy Points_x', 'RushTD'], axis=1, inplace=True)\n",
    "df = pd.merge(df, defAvg, on=['OPP', 'Week'])\n",
    "df.rename(columns={'Fantasy Points_y':'Fantasy Points'}, inplace = True)\n",
    "df.loc[df.Name == 'Mitch Trubisky']"
   ]
  },
  {
   "cell_type": "code",
   "execution_count": null,
   "metadata": {},
   "outputs": [],
   "source": [
    "with open(\"QBfantasyDF\", 'wb') as picklefile:\n",
    "    pkl.dump(df, picklefile)"
   ]
  },
  {
   "cell_type": "code",
   "execution_count": null,
   "metadata": {},
   "outputs": [],
   "source": []
  }
 ],
 "metadata": {
  "kernelspec": {
   "display_name": "Python 3",
   "language": "python",
   "name": "python3"
  },
  "language_info": {
   "codemirror_mode": {
    "name": "ipython",
    "version": 3
   },
   "file_extension": ".py",
   "mimetype": "text/x-python",
   "name": "python",
   "nbconvert_exporter": "python",
   "pygments_lexer": "ipython3",
   "version": "3.6.6"
  },
  "toc": {
   "base_numbering": 1,
   "nav_menu": {},
   "number_sections": true,
   "sideBar": true,
   "skip_h1_title": false,
   "title_cell": "Table of Contents",
   "title_sidebar": "Contents",
   "toc_cell": false,
   "toc_position": {},
   "toc_section_display": true,
   "toc_window_display": false
  },
  "varInspector": {
   "cols": {
    "lenName": 16,
    "lenType": 16,
    "lenVar": 40
   },
   "kernels_config": {
    "python": {
     "delete_cmd_postfix": "",
     "delete_cmd_prefix": "del ",
     "library": "var_list.py",
     "varRefreshCmd": "print(var_dic_list())"
    },
    "r": {
     "delete_cmd_postfix": ") ",
     "delete_cmd_prefix": "rm(",
     "library": "var_list.r",
     "varRefreshCmd": "cat(var_dic_list()) "
    }
   },
   "types_to_exclude": [
    "module",
    "function",
    "builtin_function_or_method",
    "instance",
    "_Feature"
   ],
   "window_display": false
  }
 },
 "nbformat": 4,
 "nbformat_minor": 2
}
